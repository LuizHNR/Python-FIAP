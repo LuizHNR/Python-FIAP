{
 "cells": [
  {
   "cell_type": "code",
   "execution_count": 4,
   "id": "996723c3-c160-4b54-91d2-092101b3ca2b",
   "metadata": {},
   "outputs": [],
   "source": [
    "arquivo = open(\"./train.csv\", \"r\")"
   ]
  },
  {
   "cell_type": "code",
   "execution_count": null,
   "id": "52d127e3-aa66-44d3-b773-4bf180e464a5",
   "metadata": {},
   "outputs": [],
   "source": [
    "x = []\n",
    "y = []"
   ]
  },
  {
   "cell_type": "code",
   "execution_count": 5,
   "id": "4984fd09-7e31-4454-b66c-5ddedccbe53c",
   "metadata": {},
   "outputs": [
    {
     "ename": "NameError",
     "evalue": "name 'linhas' is not defined",
     "output_type": "error",
     "traceback": [
      "\u001b[1;31m---------------------------------------------------------------------------\u001b[0m",
      "\u001b[1;31mNameError\u001b[0m                                 Traceback (most recent call last)",
      "Cell \u001b[1;32mIn[5], line 5\u001b[0m\n\u001b[0;32m      2\u001b[0m linha \u001b[38;5;241m=\u001b[39m arquivo\u001b[38;5;241m.\u001b[39mreadline()\n\u001b[0;32m      4\u001b[0m \u001b[38;5;28;01mwhile\u001b[39;00m linha \u001b[38;5;241m!=\u001b[39m \u001b[38;5;124m\"\u001b[39m\u001b[38;5;124m\"\u001b[39m:\n\u001b[1;32m----> 5\u001b[0m     colunas \u001b[38;5;241m=\u001b[39m \u001b[43mlinhas\u001b[49m\u001b[38;5;241m.\u001b[39msplit(\u001b[38;5;124m\"\u001b[39m\u001b[38;5;124m,\u001b[39m\u001b[38;5;124m\"\u001b[39m)\n\u001b[0;32m      6\u001b[0m     texto \u001b[38;5;241m=\u001b[39m coluna[\u001b[38;5;241m3\u001b[39m]\n\u001b[0;32m      7\u001b[0m     label \u001b[38;5;241m=\u001b[39m coluna[\u001b[38;5;241m4\u001b[39m]\n",
      "\u001b[1;31mNameError\u001b[0m: name 'linhas' is not defined"
     ]
    }
   ],
   "source": [
    "linha = arquivo.readline()\n",
    "linha = arquivo.readline()\n",
    "\n",
    "while linha != \"\":\n",
    "    colunas = linha.split(\",\")\n",
    "    texto = coluna[3]\n",
    "    label = coluna[4]\n",
    "    x.append(texto)\n",
    "    y.append(label)\n",
    "    linha = arquivo.readline()"
   ]
  },
  {
   "cell_type": "code",
   "execution_count": null,
   "id": "cc2cefe9-dea1-4839-9dae-aea9040d5ef4",
   "metadata": {},
   "outputs": [],
   "source": []
  }
 ],
 "metadata": {
  "kernelspec": {
   "display_name": "Python 3 (ipykernel)",
   "language": "python",
   "name": "python3"
  },
  "language_info": {
   "codemirror_mode": {
    "name": "ipython",
    "version": 3
   },
   "file_extension": ".py",
   "mimetype": "text/x-python",
   "name": "python",
   "nbconvert_exporter": "python",
   "pygments_lexer": "ipython3",
   "version": "3.12.3"
  }
 },
 "nbformat": 4,
 "nbformat_minor": 5
}
